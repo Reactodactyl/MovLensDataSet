{
 "cells": [
  {
   "cell_type": "code",
   "execution_count": null,
   "metadata": {},
   "outputs": [],
   "source": [
    "import preprocessingFuncts as pp\n",
    "import pandas as pd\n",
    "import numpy as np\n",
    "import matplotlib.pyplot as plt\n",
    "import sklearn.metrics as metrics"
   ]
  },
  {
   "cell_type": "markdown",
   "metadata": {
    "tags": []
   },
   "source": [
    "# Best and Worst User Data"
   ]
  },
  {
   "cell_type": "markdown",
   "metadata": {},
   "source": [
    "Unweighted User Data"
   ]
  },
  {
   "cell_type": "code",
   "execution_count": null,
   "metadata": {},
   "outputs": [],
   "source": [
    "b= pp.Unthresholduserdata(\"gender\")\n",
    "for n in b:\n",
    "    display(n)"
   ]
  },
  {
   "cell_type": "code",
   "execution_count": null,
   "metadata": {},
   "outputs": [],
   "source": [
    "b= pp.Unthresholduserdata(\"occupation\")\n",
    "for n in b:\n",
    "    display(n)"
   ]
  },
  {
   "cell_type": "code",
   "execution_count": null,
   "metadata": {},
   "outputs": [],
   "source": [
    "b= pp.Unthresholduserdata(\"age_group\")\n",
    "for n in b:\n",
    "    display(n)\n"
   ]
  },
  {
   "cell_type": "markdown",
   "metadata": {},
   "source": [
    "Weighted User Data"
   ]
  },
  {
   "cell_type": "code",
   "execution_count": null,
   "metadata": {},
   "outputs": [],
   "source": [
    "a = pp.Thresholduserdata(30,\"gender\")\n",
    "for i in a:\n",
    "    display(i)\n"
   ]
  },
  {
   "cell_type": "code",
   "execution_count": null,
   "metadata": {},
   "outputs": [],
   "source": [
    "a = pp.Thresholduserdata(30,\"occupation\")\n",
    "for i in a:\n",
    "    display(i)\n"
   ]
  },
  {
   "cell_type": "code",
   "execution_count": null,
   "metadata": {},
   "outputs": [],
   "source": [
    "a = pp.Thresholduserdata(30,\"age_group\")\n",
    "for i in a:\n",
    "    display(i)"
   ]
  },
  {
   "cell_type": "markdown",
   "metadata": {},
   "source": [
    "Weighted Item Data"
   ]
  },
  {
   "cell_type": "code",
   "execution_count": null,
   "metadata": {},
   "outputs": [],
   "source": [
    "#[\"unknown\", \"Action\", \"Adventure\", \"Animation\", \"Children's\",\"Comedy\", \"Crime\", \"Documentary\", \"Drama\", \"Fantasy\", \"Film-Noir\", \"Horror\", \"Musical\", \"Mystery\", \"Romance\", \"Sci-Fi\", \"Thriller\", \"War\", \"Western\"]\n",
    "c= pp.Thresholditemdata(30,\"unknown\")\n",
    "if c==None:\n",
    "    print (c)\n",
    "else:\n",
    "    display(c)"
   ]
  },
  {
   "cell_type": "code",
   "execution_count": null,
   "metadata": {},
   "outputs": [],
   "source": [
    "#[\"unknown\", \"Action\", \"Adventure\", \"Animation\", \"Children's\",\"Comedy\", \"Crime\", \"Documentary\", \"Drama\", \"Fantasy\", \"Film-Noir\", \"Horror\", \"Musical\", \"Mystery\", \"Romance\", \"Sci-Fi\", \"Thriller\", \"War\", \"Western\"]\n",
    "c= pp.Thresholditemdata(30,\"Action\")\n",
    "for x in c:\n",
    "    display(x)\n",
    "# d= pp.Unweighteditemdata(\"Action\")\n",
    "# for y in d:\n",
    "#     display(y)"
   ]
  },
  {
   "cell_type": "code",
   "execution_count": null,
   "metadata": {},
   "outputs": [],
   "source": [
    "#[\"unknown\", \"Action\", \"Adventure\", \"Animation\", \"Children's\",\"Comedy\", \"Crime\", \"Documentary\", \"Drama\", \"Fantasy\", \"Film-Noir\", \"Horror\", \"Musical\", \"Mystery\", \"Romance\", \"Sci-Fi\", \"Thriller\", \"War\", \"Western\"]\n",
    "c= pp.Thresholditemdata(30,\"Adventure\")\n",
    "for x in c:\n",
    "    display(x)\n",
    "# d= pp.Unweighteditemdata(\"Action\")\n",
    "# for y in d:\n",
    "#     display(y)"
   ]
  },
  {
   "cell_type": "code",
   "execution_count": null,
   "metadata": {},
   "outputs": [],
   "source": [
    "#[\"unknown\", \"Action\", \"Adventure\", \"Animation\", \"Children's\",\"Comedy\", \"Crime\", \"Documentary\", \"Drama\", \"Fantasy\", \"Film-Noir\", \"Horror\", \"Musical\", \"Mystery\", \"Romance\", \"Sci-Fi\", \"Thriller\", \"War\", \"Western\"]\n",
    "c= pp.Thresholditemdata(30,\"Animation\")\n",
    "for x in c:\n",
    "    display(x)\n",
    "# d= pp.Unweighteditemdata(\"Action\")\n",
    "# for y in d:\n",
    "#     display(y)"
   ]
  },
  {
   "cell_type": "code",
   "execution_count": null,
   "metadata": {},
   "outputs": [],
   "source": [
    "#[\"unknown\", \"Action\", \"Adventure\", \"Animation\", \"Children's\",\"Comedy\", \"Crime\", \"Documentary\", \"Drama\", \"Fantasy\", \"Film-Noir\", \"Horror\", \"Musical\", \"Mystery\", \"Romance\", \"Sci-Fi\", \"Thriller\", \"War\", \"Western\"]\n",
    "c= pp.Thresholditemdata(30,\"Children's\")\n",
    "for x in c:\n",
    "    display(x)\n",
    "# d= pp.Unweighteditemdata(\"Action\")\n",
    "# for y in d:\n",
    "#     display(y)"
   ]
  },
  {
   "cell_type": "code",
   "execution_count": null,
   "metadata": {},
   "outputs": [],
   "source": [
    "#[\"unknown\", \"Action\", \"Adventure\", \"Animation\", \"Children's\",\"Comedy\", \"Crime\", \"Documentary\", \"Drama\", \"Fantasy\", \"Film-Noir\", \"Horror\", \"Musical\", \"Mystery\", \"Romance\", \"Sci-Fi\", \"Thriller\", \"War\", \"Western\"]\n",
    "c= pp.Thresholditemdata(30,\"Comedy\")\n",
    "for x in c:\n",
    "    display(x)\n",
    "# d= pp.Unweighteditemdata(\"Action\")\n",
    "# for y in d:\n",
    "#     display(y)"
   ]
  },
  {
   "cell_type": "code",
   "execution_count": null,
   "metadata": {},
   "outputs": [],
   "source": [
    "#[\"unknown\", \"Action\", \"Adventure\", \"Animation\", \"Children's\",\"Comedy\", \"Crime\", \"Documentary\", \"Drama\", \"Fantasy\", \"Film-Noir\", \"Horror\", \"Musical\", \"Mystery\", \"Romance\", \"Sci-Fi\", \"Thriller\", \"War\", \"Western\"]\n",
    "c= pp.Thresholditemdata(30,\"Crime\")\n",
    "for x in c:\n",
    "    display(x)\n",
    "# d= pp.Unweighteditemdata(\"Action\")\n",
    "# for y in d:\n",
    "#     display(y)"
   ]
  },
  {
   "cell_type": "code",
   "execution_count": null,
   "metadata": {},
   "outputs": [],
   "source": [
    "#[\"unknown\", \"Action\", \"Adventure\", \"Animation\", \"Children's\",\"Comedy\", \"Crime\", \"Documentary\", \"Drama\", \"Fantasy\", \"Film-Noir\", \"Horror\", \"Musical\", \"Mystery\", \"Romance\", \"Sci-Fi\", \"Thriller\", \"War\", \"Western\"]\n",
    "c= pp.Thresholditemdata(30,\"Documentary\")\n",
    "for x in c:\n",
    "    display(x)\n",
    "# d= pp.Unweighteditemdata(\"Action\")\n",
    "# for y in d:\n",
    "#     display(y)"
   ]
  },
  {
   "cell_type": "code",
   "execution_count": null,
   "metadata": {},
   "outputs": [],
   "source": [
    "#[\"unknown\", \"Action\", \"Adventure\", \"Animation\", \"Children's\",\"Comedy\", \"Crime\", \"Documentary\", \"Drama\", \"Fantasy\", \"Film-Noir\", \"Horror\", \"Musical\", \"Mystery\", \"Romance\", \"Sci-Fi\", \"Thriller\", \"War\", \"Western\"]\n",
    "c= pp.Thresholditemdata(30,\"Drama\")\n",
    "for x in c:\n",
    "    display(x)\n",
    "# d= pp.Unweighteditemdata(\"Action\")\n",
    "# for y in d:\n",
    "#     display(y)"
   ]
  },
  {
   "cell_type": "code",
   "execution_count": 1,
   "metadata": {},
   "outputs": [
    {
     "ename": "NameError",
     "evalue": "name 'pp' is not defined",
     "output_type": "error",
     "traceback": [
      "\u001b[1;31m---------------------------------------------------------------------------\u001b[0m",
      "\u001b[1;31mNameError\u001b[0m                                 Traceback (most recent call last)",
      "Cell \u001b[1;32mIn [1], line 2\u001b[0m\n\u001b[0;32m      1\u001b[0m \u001b[39m#[\"unknown\", \"Action\", \"Adventure\", \"Animation\", \"Children's\",\"Comedy\", \"Crime\", \"Documentary\", \"Drama\", \"Fantasy\", \"Film-Noir\", \"Horror\", \"Musical\", \"Mystery\", \"Romance\", \"Sci-Fi\", \"Thriller\", \"War\", \"Western\"]\u001b[39;00m\n\u001b[1;32m----> 2\u001b[0m c\u001b[39m=\u001b[39m pp\u001b[39m.\u001b[39mThresholditemdata(\u001b[39m30\u001b[39m,\u001b[39m\"\u001b[39m\u001b[39mFantasy\u001b[39m\u001b[39m\"\u001b[39m)\n\u001b[0;32m      3\u001b[0m \u001b[39mfor\u001b[39;00m x \u001b[39min\u001b[39;00m c:\n\u001b[0;32m      4\u001b[0m     display(x)\n",
      "\u001b[1;31mNameError\u001b[0m: name 'pp' is not defined"
     ]
    }
   ],
   "source": [
    "#[\"unknown\", \"Action\", \"Adventure\", \"Animation\", \"Children's\",\"Comedy\", \"Crime\", \"Documentary\", \"Drama\", \"Fantasy\", \"Film-Noir\", \"Horror\", \"Musical\", \"Mystery\", \"Romance\", \"Sci-Fi\", \"Thriller\", \"War\", \"Western\"]\n",
    "c= pp.Thresholditemdata(30,\"Fantasy\")\n",
    "for x in c:\n",
    "    display(x)\n",
    "# d= pp.Unweighteditemdata(\"Action\")\n",
    "# for y in d:\n",
    "#     display(y)"
   ]
  },
  {
   "cell_type": "code",
   "execution_count": null,
   "metadata": {},
   "outputs": [],
   "source": [
    "#[\"unknown\", \"Action\", \"Adventure\", \"Animation\", \"Children's\",\"Comedy\", \"Crime\", \"Documentary\", \"Drama\", \"Fantasy\", \"Film-Noir\", \"Horror\", \"Musical\", \"Mystery\", \"Romance\", \"Sci-Fi\", \"Thriller\", \"War\", \"Western\"]\n",
    "c= pp.Thresholditemdata(30,\"Film-Noir\")\n",
    "for x in c:\n",
    "    display(x)\n",
    "# d= pp.Unweighteditemdata(\"Action\")\n",
    "# for y in d:\n",
    "#     display(y)"
   ]
  },
  {
   "cell_type": "code",
   "execution_count": null,
   "metadata": {},
   "outputs": [],
   "source": [
    "#[\"unknown\", \"Action\", \"Adventure\", \"Animation\", \"Children's\",\"Comedy\", \"Crime\", \"Documentary\", \"Drama\", \"Fantasy\", \"Film-Noir\", \"Horror\", \"Musical\", \"Mystery\", \"Romance\", \"Sci-Fi\", \"Thriller\", \"War\", \"Western\"]\n",
    "c= pp.Thresholditemdata(30,\"Horror\")\n",
    "for x in c:\n",
    "    display(x)\n",
    "# d= pp.Unweighteditemdata(\"Action\")\n",
    "# for y in d:\n",
    "#     display(y)"
   ]
  },
  {
   "cell_type": "code",
   "execution_count": null,
   "metadata": {},
   "outputs": [],
   "source": [
    "#[\"unknown\", \"Action\", \"Adventure\", \"Animation\", \"Children's\",\"Comedy\", \"Crime\", \"Documentary\", \"Drama\", \"Fantasy\", \"Film-Noir\", \"Horror\", \"Musical\", \"Mystery\", \"Romance\", \"Sci-Fi\", \"Thriller\", \"War\", \"Western\"]\n",
    "c= pp.Thresholditemdata(30,\"Musical\")\n",
    "for x in c:\n",
    "    display(x)\n",
    "# d= pp.Unweighteditemdata(\"Action\")\n",
    "# for y in d:\n",
    "#     display(y)"
   ]
  },
  {
   "cell_type": "code",
   "execution_count": null,
   "metadata": {},
   "outputs": [],
   "source": [
    "#[\"unknown\", \"Action\", \"Adventure\", \"Animation\", \"Children's\",\"Comedy\", \"Crime\", \"Documentary\", \"Drama\", \"Fantasy\", \"Film-Noir\", \"Horror\", \"Musical\", \"Mystery\", \"Romance\", \"Sci-Fi\", \"Thriller\", \"War\", \"Western\"]\n",
    "c= pp.Thresholditemdata(30,\"Mystery\")\n",
    "for x in c:\n",
    "    display(x)\n",
    "# d= pp.Unweighteditemdata(\"Action\")\n",
    "# for y in d:\n",
    "#     display(y)"
   ]
  },
  {
   "cell_type": "code",
   "execution_count": null,
   "metadata": {},
   "outputs": [],
   "source": [
    "#[\"unknown\", \"Action\", \"Adventure\", \"Animation\", \"Children's\",\"Comedy\", \"Crime\", \"Documentary\", \"Drama\", \"Fantasy\", \"Film-Noir\", \"Horror\", \"Musical\", \"Mystery\", \"Romance\", \"Sci-Fi\", \"Thriller\", \"War\", \"Western\"]\n",
    "c= pp.Thresholditemdata(30,\"Romance\")\n",
    "for x in c:\n",
    "    display(x)\n",
    "# d= pp.Unweighteditemdata(\"Action\")\n",
    "# for y in d:\n",
    "#     display(y)"
   ]
  },
  {
   "cell_type": "code",
   "execution_count": null,
   "metadata": {},
   "outputs": [],
   "source": [
    "#[\"unknown\", \"Action\", \"Adventure\", \"Animation\", \"Children's\",\"Comedy\", \"Crime\", \"Documentary\", \"Drama\", \"Fantasy\", \"Film-Noir\", \"Horror\", \"Musical\", \"Mystery\", \"Romance\", \"Sci-Fi\", \"Thriller\", \"War\", \"Western\"]\n",
    "c= pp.Thresholditemdata(30,\"Sci-Fi\")\n",
    "for x in c:\n",
    "    display(x)\n",
    "# d= pp.Unweighteditemdata(\"Action\")\n",
    "# for y in d:\n",
    "#     display(y)"
   ]
  },
  {
   "cell_type": "code",
   "execution_count": null,
   "metadata": {},
   "outputs": [],
   "source": [
    "#[\"unknown\", \"Action\", \"Adventure\", \"Animation\", \"Children's\",\"Comedy\", \"Crime\", \"Documentary\", \"Drama\", \"Fantasy\", \"Film-Noir\", \"Horror\", \"Musical\", \"Mystery\", \"Romance\", \"Sci-Fi\", \"Thriller\", \"War\", \"Western\"]\n",
    "c= pp.Thresholditemdata(30,\"Thriller\")\n",
    "for x in c:\n",
    "    display(x)\n",
    "# d= pp.Unweighteditemdata(\"Action\")\n",
    "# for y in d:\n",
    "#     display(y)"
   ]
  },
  {
   "cell_type": "code",
   "execution_count": null,
   "metadata": {},
   "outputs": [],
   "source": [
    "#[\"unknown\", \"Action\", \"Adventure\", \"Animation\", \"Children's\",\"Comedy\", \"Crime\", \"Documentary\", \"Drama\", \"Fantasy\", \"Film-Noir\", \"Horror\", \"Musical\", \"Mystery\", \"Romance\", \"Sci-Fi\", \"Thriller\", \"War\", \"Western\"]\n",
    "c= pp.Thresholditemdata(30,\"War\")\n",
    "for x in c:\n",
    "    display(x)\n"
   ]
  },
  {
   "cell_type": "code",
   "execution_count": null,
   "metadata": {},
   "outputs": [],
   "source": [
    "#[\"unknown\", \"Action\", \"Adventure\", \"Animation\", \"Children's\",\"Comedy\", \"Crime\", \"Documentary\", \"Drama\", \"Fantasy\", \"Film-Noir\", \"Horror\", \"Musical\", \"Mystery\", \"Romance\", \"Sci-Fi\", \"Thriller\", \"War\", \"Western\"]\n",
    "c= pp.Thresholditemdata(30,\"Western\")\n",
    "for x in c:\n",
    "    display(x)\n",
    "# d= pp.Unweighteditemdata(\"Action\")\n",
    "# for y in d:\n",
    "#     display(y)"
   ]
  },
  {
   "cell_type": "markdown",
   "metadata": {},
   "source": [
    "Unweighted Item Data"
   ]
  },
  {
   "cell_type": "code",
   "execution_count": null,
   "metadata": {},
   "outputs": [],
   "source": [
    "#[\"unknown\", \"Action\", \"Adventure\", \"Animation\", \"Children's\",\"Comedy\", \"Crime\", \"Documentary\", \"Drama\", \"Fantasy\", \"Film-Noir\", \"Horror\", \"Musical\", \"Mystery\", \"Romance\", \"Sci-Fi\", \"Thriller\", \"War\", \"Western\"]\n",
    "d= pp.Unthresholditemdata(\"unknown\")\n",
    "for y in d:\n",
    "    display(y)"
   ]
  },
  {
   "cell_type": "code",
   "execution_count": null,
   "metadata": {},
   "outputs": [],
   "source": [
    "#[\"unknown\", \"Action\", \"Adventure\", \"Animation\", \"Children's\",\"Comedy\", \"Crime\", \"Documentary\", \"Drama\", \"Fantasy\", \"Film-Noir\", \"Horror\", \"Musical\", \"Mystery\", \"Romance\", \"Sci-Fi\", \"Thriller\", \"War\", \"Western\"]\n",
    "d= pp.Unthresholditemdata(\"Action\")\n",
    "for y in d:\n",
    "    display(y)"
   ]
  },
  {
   "cell_type": "code",
   "execution_count": null,
   "metadata": {},
   "outputs": [],
   "source": [
    "#[\"unknown\", \"Action\", \"Adventure\", \"Animation\", \"Children's\",\"Comedy\", \"Crime\", \"Documentary\", \"Drama\", \"Fantasy\", \"Film-Noir\", \"Horror\", \"Musical\", \"Mystery\", \"Romance\", \"Sci-Fi\", \"Thriller\", \"War\", \"Western\"]\n",
    "d= pp.Unthresholditemdata(\"Adventure\")\n",
    "for y in d:\n",
    "    display(y)"
   ]
  },
  {
   "cell_type": "code",
   "execution_count": null,
   "metadata": {},
   "outputs": [],
   "source": [
    "#[\"unknown\", \"Action\", \"Adventure\", \"Animation\", \"Children's\",\"Comedy\", \"Crime\", \"Documentary\", \"Drama\", \"Fantasy\", \"Film-Noir\", \"Horror\", \"Musical\", \"Mystery\", \"Romance\", \"Sci-Fi\", \"Thriller\", \"War\", \"Western\"]\n",
    "d= pp.Unthresholditemdata(\"Animation\")\n",
    "for y in d:\n",
    "    display(y)"
   ]
  },
  {
   "cell_type": "code",
   "execution_count": null,
   "metadata": {},
   "outputs": [],
   "source": [
    "#[\"unknown\", \"Action\", \"Adventure\", \"Animation\", \"Children's\",\"Comedy\", \"Crime\", \"Documentary\", \"Drama\", \"Fantasy\", \"Film-Noir\", \"Horror\", \"Musical\", \"Mystery\", \"Romance\", \"Sci-Fi\", \"Thriller\", \"War\", \"Western\"]\n",
    "d= pp.Unthresholditemdata(\"Children's\")\n",
    "for y in d:\n",
    "    display(y)"
   ]
  },
  {
   "cell_type": "code",
   "execution_count": null,
   "metadata": {},
   "outputs": [],
   "source": [
    "#[\"unknown\", \"Action\", \"Adventure\", \"Animation\", \"Children's\",\"Comedy\", \"Crime\", \"Documentary\", \"Drama\", \"Fantasy\", \"Film-Noir\", \"Horror\", \"Musical\", \"Mystery\", \"Romance\", \"Sci-Fi\", \"Thriller\", \"War\", \"Western\"]\n",
    "d= pp.Unthresholditemdata(\"Comedy\")\n",
    "for y in d:\n",
    "    display(y)"
   ]
  },
  {
   "cell_type": "code",
   "execution_count": null,
   "metadata": {},
   "outputs": [],
   "source": [
    "#[\"unknown\", \"Action\", \"Adventure\", \"Animation\", \"Children's\",\"Comedy\", \"Crime\", \"Documentary\", \"Drama\", \"Fantasy\", \"Film-Noir\", \"Horror\", \"Musical\", \"Mystery\", \"Romance\", \"Sci-Fi\", \"Thriller\", \"War\", \"Western\"]\n",
    "d= pp.Unthresholditemdata(\"Crime\")\n",
    "for y in d:\n",
    "    display(y)"
   ]
  },
  {
   "cell_type": "code",
   "execution_count": null,
   "metadata": {},
   "outputs": [],
   "source": [
    "#[\"unknown\", \"Action\", \"Adventure\", \"Animation\", \"Children's\",\"Comedy\", \"Crime\", \"Documentary\", \"Drama\", \"Fantasy\", \"Film-Noir\", \"Horror\", \"Musical\", \"Mystery\", \"Romance\", \"Sci-Fi\", \"Thriller\", \"War\", \"Western\"]\n",
    "d= pp.Unthresholditemdata(\"Documentary\")\n",
    "for y in d:\n",
    "    display(y)"
   ]
  },
  {
   "cell_type": "code",
   "execution_count": null,
   "metadata": {},
   "outputs": [],
   "source": [
    "#[\"unknown\", \"Action\", \"Adventure\", \"Animation\", \"Children's\",\"Comedy\", \"Crime\", \"Documentary\", \"Drama\", \"Fantasy\", \"Film-Noir\", \"Horror\", \"Musical\", \"Mystery\", \"Romance\", \"Sci-Fi\", \"Thriller\", \"War\", \"Western\"]\n",
    "d= pp.Unthresholditemdata(\"Drama\")\n",
    "for y in d:\n",
    "    display(y)"
   ]
  },
  {
   "cell_type": "code",
   "execution_count": null,
   "metadata": {},
   "outputs": [],
   "source": [
    "#[\"unknown\", \"Action\", \"Adventure\", \"Animation\", \"Children's\",\"Comedy\", \"Crime\", \"Documentary\", \"Drama\", \"Fantasy\", \"Film-Noir\", \"Horror\", \"Musical\", \"Mystery\", \"Romance\", \"Sci-Fi\", \"Thriller\", \"War\", \"Western\"]\n",
    "d= pp.Unthresholditemdata(\"Fantasy\")\n",
    "for y in d:\n",
    "    display(y)"
   ]
  },
  {
   "cell_type": "code",
   "execution_count": null,
   "metadata": {},
   "outputs": [],
   "source": [
    "#[\"unknown\", \"Action\", \"Adventure\", \"Animation\", \"Children's\",\"Comedy\", \"Crime\", \"Documentary\", \"Drama\", \"Fantasy\", \"Film-Noir\", \"Horror\", \"Musical\", \"Mystery\", \"Romance\", \"Sci-Fi\", \"Thriller\", \"War\", \"Western\"]\n",
    "d= pp.Unthresholditemdata(\"Film-Noir\")\n",
    "for y in d:\n",
    "    display(y)"
   ]
  },
  {
   "cell_type": "code",
   "execution_count": null,
   "metadata": {},
   "outputs": [],
   "source": [
    "#[\"unknown\", \"Action\", \"Adventure\", \"Animation\", \"Children's\",\"Comedy\", \"Crime\", \"Documentary\", \"Drama\", \"Fantasy\", \"Film-Noir\", \"Horror\", \"Musical\", \"Mystery\", \"Romance\", \"Sci-Fi\", \"Thriller\", \"War\", \"Western\"]\n",
    "d= pp.Unthresholditemdata(\"Horror\")\n",
    "for y in d:\n",
    "    display(y)"
   ]
  },
  {
   "cell_type": "code",
   "execution_count": null,
   "metadata": {},
   "outputs": [],
   "source": [
    "#[\"unknown\", \"Action\", \"Adventure\", \"Animation\", \"Children's\",\"Comedy\", \"Crime\", \"Documentary\", \"Drama\", \"Fantasy\", \"Film-Noir\", \"Horror\", \"Musical\", \"Mystery\", \"Romance\", \"Sci-Fi\", \"Thriller\", \"War\", \"Western\"]\n",
    "d= pp.Unthresholditemdata(\"Musical\")\n",
    "for y in d:\n",
    "    display(y)"
   ]
  },
  {
   "cell_type": "code",
   "execution_count": null,
   "metadata": {},
   "outputs": [],
   "source": [
    "#[\"unknown\", \"Action\", \"Adventure\", \"Animation\", \"Children's\",\"Comedy\", \"Crime\", \"Documentary\", \"Drama\", \"Fantasy\", \"Film-Noir\", \"Horror\", \"Musical\", \"Mystery\", \"Romance\", \"Sci-Fi\", \"Thriller\", \"War\", \"Western\"]\n",
    "d= pp.Unthresholditemdata(\"Mystery\")\n",
    "for y in d:\n",
    "    display(y)"
   ]
  },
  {
   "cell_type": "code",
   "execution_count": null,
   "metadata": {},
   "outputs": [],
   "source": [
    "#[\"unknown\", \"Action\", \"Adventure\", \"Animation\", \"Children's\",\"Comedy\", \"Crime\", \"Documentary\", \"Drama\", \"Fantasy\", \"Film-Noir\", \"Horror\", \"Musical\", \"Mystery\", \"Romance\", \"Sci-Fi\", \"Thriller\", \"War\", \"Western\"]\n",
    "d= pp.Unthresholditemdata(\"Romance\")\n",
    "for y in d:\n",
    "    display(y)"
   ]
  },
  {
   "cell_type": "code",
   "execution_count": null,
   "metadata": {},
   "outputs": [],
   "source": [
    "#[\"unknown\", \"Action\", \"Adventure\", \"Animation\", \"Children's\",\"Comedy\", \"Crime\", \"Documentary\", \"Drama\", \"Fantasy\", \"Film-Noir\", \"Horror\", \"Musical\", \"Mystery\", \"Romance\", \"Sci-Fi\", \"Thriller\", \"War\", \"Western\"]\n",
    "d= pp.Unthresholditemdata(\"Sci-Fi\")\n",
    "for y in d:\n",
    "    display(y)"
   ]
  },
  {
   "cell_type": "code",
   "execution_count": null,
   "metadata": {},
   "outputs": [],
   "source": [
    "#[\"unknown\", \"Action\", \"Adventure\", \"Animation\", \"Children's\",\"Comedy\", \"Crime\", \"Documentary\", \"Drama\", \"Fantasy\", \"Film-Noir\", \"Horror\", \"Musical\", \"Mystery\", \"Romance\", \"Sci-Fi\", \"Thriller\", \"War\", \"Western\"]\n",
    "d= pp.Unthresholditemdata(\"Thriller\")\n",
    "for y in d:\n",
    "    display(y)"
   ]
  },
  {
   "cell_type": "code",
   "execution_count": null,
   "metadata": {},
   "outputs": [],
   "source": [
    "#[\"unknown\", \"Action\", \"Adventure\", \"Animation\", \"Children's\",\"Comedy\", \"Crime\", \"Documentary\", \"Drama\", \"Fantasy\", \"Film-Noir\", \"Horror\", \"Musical\", \"Mystery\", \"Romance\", \"Sci-Fi\", \"Thriller\", \"War\", \"Western\"]\n",
    "d= pp.Unthresholditemdata(\"War\")\n",
    "for y in d:\n",
    "    display(y)"
   ]
  },
  {
   "cell_type": "code",
   "execution_count": null,
   "metadata": {},
   "outputs": [],
   "source": [
    "#[\"unknown\", \"Action\", \"Adventure\", \"Animation\", \"Children's\",\"Comedy\", \"Crime\", \"Documentary\", \"Drama\", \"Fantasy\", \"Film-Noir\", \"Horror\", \"Musical\", \"Mystery\", \"Romance\", \"Sci-Fi\", \"Thriller\", \"War\", \"Western\"]\n",
    "d= pp.Unthresholditemdata(\"Western\")\n",
    "for y in d:\n",
    "    display(y)"
   ]
  },
  {
   "cell_type": "markdown",
   "metadata": {},
   "source": [
    "<h1> Get the data </h1>"
   ]
  },
  {
   "cell_type": "code",
   "execution_count": null,
   "metadata": {},
   "outputs": [],
   "source": [
    "users = pp.readUserData()\n",
    "users = users.sort_values(by=['user_id','age']).reset_index().drop('index',axis=1)\n",
    "\n",
    "items = pp.readItemData()\n",
    "items = items.sort_values(by=['year','item_id']).reset_index().drop('index',axis=1)\n",
    "items = items.dropna()\n",
    "\n",
    "ratings = pp.readRatingData()\n",
    "ratings = ratings.sort_values(by=['user_id','item_id']).reset_index().drop('index',axis=1)"
   ]
  },
  {
   "cell_type": "code",
   "execution_count": null,
   "metadata": {},
   "outputs": [],
   "source": [
    "count=0\n",
    "yearnow=0\n",
    "for i in range(len(items)):\n",
    "    if(yearnow!=items['year'][i]):\n",
    "        count+=1\n",
    "        yearnow=items['year'][i]\n",
    "\n",
    "temp2 = items.drop('item_id',axis=1)\n",
    "\n",
    "plt.figure(figsize=(16,6))\n",
    "for i in range(2,len(temp2.columns)-1):\n",
    "    columnname = temp2.iloc[:,i].name\n",
    "    temp3 = temp2.loc[:,['year',columnname]]\n",
    "    temp3 = temp3.groupby(by=['year']).sum()\n",
    "    plt.title(label=temp3.columns.name,fontsize=40,loc='center')\n",
    "    plt.plot(temp3.index,temp3.iloc[:,0],label = temp3.columns[0])\n",
    "    plt.xticks(rotation=90)\n",
    "plt.grid()\n",
    "plt.legend()\n",
    "plt.show()"
   ]
  },
  {
   "cell_type": "markdown",
   "metadata": {},
   "source": [
    "<h1> Based on Occupation </h1>"
   ]
  },
  {
   "cell_type": "code",
   "execution_count": null,
   "metadata": {},
   "outputs": [],
   "source": [
    "pp.getSimOccup('True')"
   ]
  },
  {
   "cell_type": "markdown",
   "metadata": {},
   "source": [
    "<h1>Age Category Query</h1>\n",
    "For presentation, if we want to show why the accuracy for age_category 6 is really not related to 7 (it's for the function below)"
   ]
  },
  {
   "cell_type": "code",
   "execution_count": null,
   "metadata": {},
   "outputs": [],
   "source": [
    "display(users.query('age_category >=6'))"
   ]
  },
  {
   "cell_type": "markdown",
   "metadata": {},
   "source": [
    "<h1> Based on age category </h1>"
   ]
  },
  {
   "cell_type": "code",
   "execution_count": null,
   "metadata": {},
   "outputs": [],
   "source": [
    "pp.getSimAgeCategory('True')"
   ]
  },
  {
   "cell_type": "markdown",
   "metadata": {},
   "source": [
    "<h1>Specifying data to analyze based on user</h1>\n",
    "Returns a pandas data frame with the user_id, item_id, rating and any specified category from the user attributes. takes input from user data and ratings data"
   ]
  },
  {
   "cell_type": "code",
   "execution_count": null,
   "metadata": {},
   "outputs": [],
   "source": [
    "pp.getSimGender('True')"
   ]
  },
  {
   "cell_type": "markdown",
   "metadata": {},
   "source": [
    "<h1>Specifying data to analyze based on item</h1>\n",
    "Returns a pandas data frame with the item_id, item_id, rating and any specified category(only between \"year\" and \"genre\") from the item attributes, takes input from user data and ratings data"
   ]
  },
  {
   "cell_type": "code",
   "execution_count": null,
   "metadata": {},
   "outputs": [],
   "source": [
    "pp.getSimItemYear('True')"
   ]
  },
  {
   "cell_type": "code",
   "execution_count": null,
   "metadata": {},
   "outputs": [],
   "source": [
    "pp.getSimUserYear('True')"
   ]
  },
  {
   "cell_type": "code",
   "execution_count": null,
   "metadata": {},
   "outputs": [],
   "source": [
    "pp.getSimUserYearCategory('True')"
   ]
  },
  {
   "cell_type": "markdown",
   "metadata": {},
   "source": [
    "<h1> Get the Sim Genre </h1>"
   ]
  },
  {
   "cell_type": "code",
   "execution_count": null,
   "metadata": {},
   "outputs": [],
   "source": [
    "pp.getSimGenre()"
   ]
  },
  {
   "cell_type": "code",
   "execution_count": null,
   "metadata": {},
   "outputs": [],
   "source": [
    "pp.getSimGenre(\"printSim\")"
   ]
  }
 ],
 "metadata": {
  "kernelspec": {
   "display_name": "Python 3.8.15 ('base')",
   "language": "python",
   "name": "python3"
  },
  "language_info": {
   "codemirror_mode": {
    "name": "ipython",
    "version": 3
   },
   "file_extension": ".py",
   "mimetype": "text/x-python",
   "name": "python",
   "nbconvert_exporter": "python",
   "pygments_lexer": "ipython3",
   "version": "3.10.9"
  },
  "orig_nbformat": 4,
  "vscode": {
   "interpreter": {
    "hash": "3b7e9cb8e453d6cda0fe8c8dd13f891a1f09162f0e7c66ffeae7751a7aecf00d"
   }
  }
 },
 "nbformat": 4,
 "nbformat_minor": 2
}
